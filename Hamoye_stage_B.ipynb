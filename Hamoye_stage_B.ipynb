{
  "nbformat": 4,
  "nbformat_minor": 0,
  "metadata": {
    "colab": {
      "name": "Hamoye_stage_B.ipynb",
      "provenance": [],
      "collapsed_sections": [],
      "mount_file_id": "1Mlul0h_P3IrZrKS2wIqm2qbhcxQdArc2",
      "authorship_tag": "ABX9TyM8RegxjJJMMFWFKcFlcuk9",
      "include_colab_link": true
    },
    "kernelspec": {
      "name": "python3",
      "display_name": "Python 3"
    }
  },
  "cells": [
    {
      "cell_type": "markdown",
      "metadata": {
        "id": "view-in-github",
        "colab_type": "text"
      },
      "source": [
        "<a href=\"https://colab.research.google.com/github/Basifrank/Hamoye_DS_Internship/blob/master/Hamoye_stage_B.ipynb\" target=\"_parent\"><img src=\"https://colab.research.google.com/assets/colab-badge.svg\" alt=\"Open In Colab\"/></a>"
      ]
    },
    {
      "cell_type": "code",
      "metadata": {
        "id": "RbWEGGdJHCCb",
        "colab_type": "code",
        "colab": {}
      },
      "source": [
        "import pandas as pd  \n",
        "import numpy as np  \n",
        "import matplotlib.pyplot as plt  \n",
        "import seaborn as sns \n",
        "from datetime import datetime as dt\n",
        "from sklearn.model_selection import train_test_split \n",
        "from sklearn.linear_model import LinearRegression\n",
        "from sklearn.metrics import mean_absolute_error\n",
        "from sklearn.metrics import r2_score\n",
        "import calendar\n",
        "from sklearn.metrics import  mean_squared_error\n",
        "from sklearn.linear_model import Lasso\n",
        "from sklearn.linear_model import Ridge\n",
        "from sklearn.preprocessing import MinMaxScaler\n",
        "from sklearn import metrics\n",
        "%matplotlib inline"
      ],
      "execution_count": 103,
      "outputs": []
    },
    {
      "cell_type": "markdown",
      "metadata": {
        "id": "UoIL8v-2qzFB",
        "colab_type": "text"
      },
      "source": [
        "T1, Temperature in kitchen area, in Celsius\n",
        "RH_1, Humidity in kitchen area, in %\n",
        "T2, Temperature in living room area, in Celsius\n",
        "RH_2, Humidity in living room area, in %\n",
        "T3, Temperature in laundry room area\n",
        "RH_3, Humidity in laundry room area, in %\n",
        "T4, Temperature in office room, in Celsius\n",
        "RH_4, Humidity in office room, in %\n",
        "T5, Temperature in bathroom, in Celsius\n",
        "RH_5, Humidity in bathroom, in %\n",
        "T6, Temperature outside the building (north side), in Celsius\n",
        "RH_6, Humidity outside the building (north side), in %\n",
        "T7, Temperature in ironing room , in Celsius\n",
        "RH_7, Humidity in ironing room, in %\n",
        "T8, Temperature in teenager room 2, in Celsius\n",
        "RH_8, Humidity in teenager room 2, in %\n",
        "T9, Temperature in parents room, in Celsius\n",
        "RH_9, Humidity in parents room, in %\n",
        "To, Temperature outside (from Chievres weather station), in Celsius\n",
        "Pressure (from Chievres weather station), in mm Hg\n",
        "RH_out, Humidity outside (from Chievres weather station), in %\n",
        "Wind speed (from Chievres weather station), in m/s\n",
        "Visibility (from Chievres weather station), in km\n",
        "Tdewpoint (from Chievres weather station), Â°C\n",
        "rv1, Random variable 1, nondimensional\n",
        "rv2, Random variable 2, nondimensional\n"
      ]
    },
    {
      "cell_type": "code",
      "metadata": {
        "id": "zCOg_nVPHEtK",
        "colab_type": "code",
        "colab": {}
      },
      "source": [
        "column_names = {'T1':'kitchen_Temp_Celsius', 'RH_1':'kitchen_Humidity%', 'T2':'living_room_Temp_Celsius', 'RH_2': 'living_room_Humidity%',\n",
        "                'T3':'laundry_room_Temp', 'RH_3':'laundry_room_Humidity%', 'T4':'office_room_Temp_Celsius', 'RH_4': 'office_room_Humidity%',\n",
        "                'T5':'bathroom_Temp_Celsius', 'RH_5':'bathroom_Humidity%', 'T6':'outside_building_North_Temp_Celsius', 'RH_6':'outside_building_North_Humidity_%',\n",
        "                 'T7':'ironing_room_Temp_Celsius', 'RH_7':'ironing room_Humidity%', 'T8':'teenager_room_Temp_Celsius', 'RH_8':'teenager_room_Humidity%',\n",
        "                'T9':'parents_room_Temp_Celsius', 'RH_9':'parents_room_Humidity%', 'T_out':'outside_Chievres_stattion_Temp_Celsius',\n",
        "                 'rv1':'Random_var1_nondimensional', 'rv2':'Random_var2_nondimensional' }"
      ],
      "execution_count": 104,
      "outputs": []
    },
    {
      "cell_type": "code",
      "metadata": {
        "id": "GyaqOjTEHEwG",
        "colab_type": "code",
        "colab": {}
      },
      "source": [
        "data = pd.read_csv('/content/drive/My Drive/Hamoye Internship/energydata_complete.csv')"
      ],
      "execution_count": 105,
      "outputs": []
    },
    {
      "cell_type": "code",
      "metadata": {
        "id": "612IKR__HEy3",
        "colab_type": "code",
        "colab": {
          "base_uri": "https://localhost:8080/",
          "height": 388
        },
        "outputId": "82e15425-bb2b-4649-d797-3a840b3a5dc2"
      },
      "source": [
        "data.head()"
      ],
      "execution_count": 106,
      "outputs": [
        {
          "output_type": "execute_result",
          "data": {
            "text/html": [
              "<div>\n",
              "<style scoped>\n",
              "    .dataframe tbody tr th:only-of-type {\n",
              "        vertical-align: middle;\n",
              "    }\n",
              "\n",
              "    .dataframe tbody tr th {\n",
              "        vertical-align: top;\n",
              "    }\n",
              "\n",
              "    .dataframe thead th {\n",
              "        text-align: right;\n",
              "    }\n",
              "</style>\n",
              "<table border=\"1\" class=\"dataframe\">\n",
              "  <thead>\n",
              "    <tr style=\"text-align: right;\">\n",
              "      <th></th>\n",
              "      <th>date</th>\n",
              "      <th>Appliances</th>\n",
              "      <th>lights</th>\n",
              "      <th>T1</th>\n",
              "      <th>RH_1</th>\n",
              "      <th>T2</th>\n",
              "      <th>RH_2</th>\n",
              "      <th>T3</th>\n",
              "      <th>RH_3</th>\n",
              "      <th>T4</th>\n",
              "      <th>RH_4</th>\n",
              "      <th>T5</th>\n",
              "      <th>RH_5</th>\n",
              "      <th>T6</th>\n",
              "      <th>RH_6</th>\n",
              "      <th>T7</th>\n",
              "      <th>RH_7</th>\n",
              "      <th>T8</th>\n",
              "      <th>RH_8</th>\n",
              "      <th>T9</th>\n",
              "      <th>RH_9</th>\n",
              "      <th>T_out</th>\n",
              "      <th>Press_mm_hg</th>\n",
              "      <th>RH_out</th>\n",
              "      <th>Windspeed</th>\n",
              "      <th>Visibility</th>\n",
              "      <th>Tdewpoint</th>\n",
              "      <th>rv1</th>\n",
              "      <th>rv2</th>\n",
              "    </tr>\n",
              "  </thead>\n",
              "  <tbody>\n",
              "    <tr>\n",
              "      <th>0</th>\n",
              "      <td>2016-01-11 17:00:00</td>\n",
              "      <td>60</td>\n",
              "      <td>30</td>\n",
              "      <td>19.89</td>\n",
              "      <td>47.596667</td>\n",
              "      <td>19.2</td>\n",
              "      <td>44.790000</td>\n",
              "      <td>19.79</td>\n",
              "      <td>44.730000</td>\n",
              "      <td>19.000000</td>\n",
              "      <td>45.566667</td>\n",
              "      <td>17.166667</td>\n",
              "      <td>55.20</td>\n",
              "      <td>7.026667</td>\n",
              "      <td>84.256667</td>\n",
              "      <td>17.200000</td>\n",
              "      <td>41.626667</td>\n",
              "      <td>18.2</td>\n",
              "      <td>48.900000</td>\n",
              "      <td>17.033333</td>\n",
              "      <td>45.53</td>\n",
              "      <td>6.600000</td>\n",
              "      <td>733.5</td>\n",
              "      <td>92.0</td>\n",
              "      <td>7.000000</td>\n",
              "      <td>63.000000</td>\n",
              "      <td>5.3</td>\n",
              "      <td>13.275433</td>\n",
              "      <td>13.275433</td>\n",
              "    </tr>\n",
              "    <tr>\n",
              "      <th>1</th>\n",
              "      <td>2016-01-11 17:10:00</td>\n",
              "      <td>60</td>\n",
              "      <td>30</td>\n",
              "      <td>19.89</td>\n",
              "      <td>46.693333</td>\n",
              "      <td>19.2</td>\n",
              "      <td>44.722500</td>\n",
              "      <td>19.79</td>\n",
              "      <td>44.790000</td>\n",
              "      <td>19.000000</td>\n",
              "      <td>45.992500</td>\n",
              "      <td>17.166667</td>\n",
              "      <td>55.20</td>\n",
              "      <td>6.833333</td>\n",
              "      <td>84.063333</td>\n",
              "      <td>17.200000</td>\n",
              "      <td>41.560000</td>\n",
              "      <td>18.2</td>\n",
              "      <td>48.863333</td>\n",
              "      <td>17.066667</td>\n",
              "      <td>45.56</td>\n",
              "      <td>6.483333</td>\n",
              "      <td>733.6</td>\n",
              "      <td>92.0</td>\n",
              "      <td>6.666667</td>\n",
              "      <td>59.166667</td>\n",
              "      <td>5.2</td>\n",
              "      <td>18.606195</td>\n",
              "      <td>18.606195</td>\n",
              "    </tr>\n",
              "    <tr>\n",
              "      <th>2</th>\n",
              "      <td>2016-01-11 17:20:00</td>\n",
              "      <td>50</td>\n",
              "      <td>30</td>\n",
              "      <td>19.89</td>\n",
              "      <td>46.300000</td>\n",
              "      <td>19.2</td>\n",
              "      <td>44.626667</td>\n",
              "      <td>19.79</td>\n",
              "      <td>44.933333</td>\n",
              "      <td>18.926667</td>\n",
              "      <td>45.890000</td>\n",
              "      <td>17.166667</td>\n",
              "      <td>55.09</td>\n",
              "      <td>6.560000</td>\n",
              "      <td>83.156667</td>\n",
              "      <td>17.200000</td>\n",
              "      <td>41.433333</td>\n",
              "      <td>18.2</td>\n",
              "      <td>48.730000</td>\n",
              "      <td>17.000000</td>\n",
              "      <td>45.50</td>\n",
              "      <td>6.366667</td>\n",
              "      <td>733.7</td>\n",
              "      <td>92.0</td>\n",
              "      <td>6.333333</td>\n",
              "      <td>55.333333</td>\n",
              "      <td>5.1</td>\n",
              "      <td>28.642668</td>\n",
              "      <td>28.642668</td>\n",
              "    </tr>\n",
              "    <tr>\n",
              "      <th>3</th>\n",
              "      <td>2016-01-11 17:30:00</td>\n",
              "      <td>50</td>\n",
              "      <td>40</td>\n",
              "      <td>19.89</td>\n",
              "      <td>46.066667</td>\n",
              "      <td>19.2</td>\n",
              "      <td>44.590000</td>\n",
              "      <td>19.79</td>\n",
              "      <td>45.000000</td>\n",
              "      <td>18.890000</td>\n",
              "      <td>45.723333</td>\n",
              "      <td>17.166667</td>\n",
              "      <td>55.09</td>\n",
              "      <td>6.433333</td>\n",
              "      <td>83.423333</td>\n",
              "      <td>17.133333</td>\n",
              "      <td>41.290000</td>\n",
              "      <td>18.1</td>\n",
              "      <td>48.590000</td>\n",
              "      <td>17.000000</td>\n",
              "      <td>45.40</td>\n",
              "      <td>6.250000</td>\n",
              "      <td>733.8</td>\n",
              "      <td>92.0</td>\n",
              "      <td>6.000000</td>\n",
              "      <td>51.500000</td>\n",
              "      <td>5.0</td>\n",
              "      <td>45.410389</td>\n",
              "      <td>45.410389</td>\n",
              "    </tr>\n",
              "    <tr>\n",
              "      <th>4</th>\n",
              "      <td>2016-01-11 17:40:00</td>\n",
              "      <td>60</td>\n",
              "      <td>40</td>\n",
              "      <td>19.89</td>\n",
              "      <td>46.333333</td>\n",
              "      <td>19.2</td>\n",
              "      <td>44.530000</td>\n",
              "      <td>19.79</td>\n",
              "      <td>45.000000</td>\n",
              "      <td>18.890000</td>\n",
              "      <td>45.530000</td>\n",
              "      <td>17.200000</td>\n",
              "      <td>55.09</td>\n",
              "      <td>6.366667</td>\n",
              "      <td>84.893333</td>\n",
              "      <td>17.200000</td>\n",
              "      <td>41.230000</td>\n",
              "      <td>18.1</td>\n",
              "      <td>48.590000</td>\n",
              "      <td>17.000000</td>\n",
              "      <td>45.40</td>\n",
              "      <td>6.133333</td>\n",
              "      <td>733.9</td>\n",
              "      <td>92.0</td>\n",
              "      <td>5.666667</td>\n",
              "      <td>47.666667</td>\n",
              "      <td>4.9</td>\n",
              "      <td>10.084097</td>\n",
              "      <td>10.084097</td>\n",
              "    </tr>\n",
              "  </tbody>\n",
              "</table>\n",
              "</div>"
            ],
            "text/plain": [
              "                  date  Appliances  lights  ...  Tdewpoint        rv1        rv2\n",
              "0  2016-01-11 17:00:00          60      30  ...        5.3  13.275433  13.275433\n",
              "1  2016-01-11 17:10:00          60      30  ...        5.2  18.606195  18.606195\n",
              "2  2016-01-11 17:20:00          50      30  ...        5.1  28.642668  28.642668\n",
              "3  2016-01-11 17:30:00          50      40  ...        5.0  45.410389  45.410389\n",
              "4  2016-01-11 17:40:00          60      40  ...        4.9  10.084097  10.084097\n",
              "\n",
              "[5 rows x 29 columns]"
            ]
          },
          "metadata": {
            "tags": []
          },
          "execution_count": 106
        }
      ]
    },
    {
      "cell_type": "code",
      "metadata": {
        "id": "eCBqmPSSHE2P",
        "colab_type": "code",
        "colab": {}
      },
      "source": [
        "data2 = data.copy()"
      ],
      "execution_count": 107,
      "outputs": []
    },
    {
      "cell_type": "code",
      "metadata": {
        "id": "jpXVc2z1f_nL",
        "colab_type": "code",
        "colab": {
          "base_uri": "https://localhost:8080/",
          "height": 34
        },
        "outputId": "7f4ed73d-5d4a-49f7-9672-969a353dcf62"
      },
      "source": [
        "data2.shape"
      ],
      "execution_count": 108,
      "outputs": [
        {
          "output_type": "execute_result",
          "data": {
            "text/plain": [
              "(19735, 29)"
            ]
          },
          "metadata": {
            "tags": []
          },
          "execution_count": 108
        }
      ]
    },
    {
      "cell_type": "markdown",
      "metadata": {
        "id": "-nmQJ257feV-",
        "colab_type": "text"
      },
      "source": [
        "#Changing column names\n"
      ]
    },
    {
      "cell_type": "code",
      "metadata": {
        "id": "7l5D8NqWfdWn",
        "colab_type": "code",
        "colab": {}
      },
      "source": [
        "col_change_data = data2.rename(columns=column_names)\n"
      ],
      "execution_count": 109,
      "outputs": []
    },
    {
      "cell_type": "code",
      "metadata": {
        "id": "RdQPN4D3f9Pg",
        "colab_type": "code",
        "colab": {
          "base_uri": "https://localhost:8080/",
          "height": 34
        },
        "outputId": "5b010ee8-0b35-4c0d-c2c3-51372362440c"
      },
      "source": [
        "col_change_data.shape"
      ],
      "execution_count": 110,
      "outputs": [
        {
          "output_type": "execute_result",
          "data": {
            "text/plain": [
              "(19735, 29)"
            ]
          },
          "metadata": {
            "tags": []
          },
          "execution_count": 110
        }
      ]
    },
    {
      "cell_type": "code",
      "metadata": {
        "id": "UhbwVhDjbuXq",
        "colab_type": "code",
        "colab": {}
      },
      "source": [
        "col_change_data2 = col_change_data.copy()"
      ],
      "execution_count": 112,
      "outputs": []
    },
    {
      "cell_type": "code",
      "metadata": {
        "id": "IHEpyoBifdab",
        "colab_type": "code",
        "colab": {
          "base_uri": "https://localhost:8080/",
          "height": 405
        },
        "outputId": "b9044604-7a6a-4f5d-abe5-0093466f20de"
      },
      "source": [
        "col_change_data.head()"
      ],
      "execution_count": 113,
      "outputs": [
        {
          "output_type": "execute_result",
          "data": {
            "text/html": [
              "<div>\n",
              "<style scoped>\n",
              "    .dataframe tbody tr th:only-of-type {\n",
              "        vertical-align: middle;\n",
              "    }\n",
              "\n",
              "    .dataframe tbody tr th {\n",
              "        vertical-align: top;\n",
              "    }\n",
              "\n",
              "    .dataframe thead th {\n",
              "        text-align: right;\n",
              "    }\n",
              "</style>\n",
              "<table border=\"1\" class=\"dataframe\">\n",
              "  <thead>\n",
              "    <tr style=\"text-align: right;\">\n",
              "      <th></th>\n",
              "      <th>date</th>\n",
              "      <th>Appliances</th>\n",
              "      <th>lights</th>\n",
              "      <th>kitchen_Temp_Celsius</th>\n",
              "      <th>kitchen_Humidity%</th>\n",
              "      <th>living_room_Temp_Celsius</th>\n",
              "      <th>living_room_Humidity%</th>\n",
              "      <th>laundry_room_Temp</th>\n",
              "      <th>laundry_room_Humidity%</th>\n",
              "      <th>office_room_Temp_Celsius</th>\n",
              "      <th>office_room_Humidity%</th>\n",
              "      <th>bathroom_Temp_Celsius</th>\n",
              "      <th>bathroom_Humidity%</th>\n",
              "      <th>outside_building_North_Temp_Celsius</th>\n",
              "      <th>outside_building_North_Humidity_%</th>\n",
              "      <th>ironing_room_Temp_Celsius</th>\n",
              "      <th>ironing room_Humidity%</th>\n",
              "      <th>teenager_room_Temp_Celsius</th>\n",
              "      <th>teenager_room_Humidity%</th>\n",
              "      <th>parents_room_Temp_Celsius</th>\n",
              "      <th>parents_room_Humidity%</th>\n",
              "      <th>outside_Chievres_stattion_Temp_Celsius</th>\n",
              "      <th>Press_mm_hg</th>\n",
              "      <th>RH_out</th>\n",
              "      <th>Windspeed</th>\n",
              "      <th>Visibility</th>\n",
              "      <th>Tdewpoint</th>\n",
              "      <th>Random_var1_nondimensional</th>\n",
              "      <th>Random_var2_nondimensional</th>\n",
              "    </tr>\n",
              "  </thead>\n",
              "  <tbody>\n",
              "    <tr>\n",
              "      <th>0</th>\n",
              "      <td>2016-01-11 17:00:00</td>\n",
              "      <td>60</td>\n",
              "      <td>30</td>\n",
              "      <td>19.89</td>\n",
              "      <td>47.596667</td>\n",
              "      <td>19.2</td>\n",
              "      <td>44.790000</td>\n",
              "      <td>19.79</td>\n",
              "      <td>44.730000</td>\n",
              "      <td>19.000000</td>\n",
              "      <td>45.566667</td>\n",
              "      <td>17.166667</td>\n",
              "      <td>55.20</td>\n",
              "      <td>7.026667</td>\n",
              "      <td>84.256667</td>\n",
              "      <td>17.200000</td>\n",
              "      <td>41.626667</td>\n",
              "      <td>18.2</td>\n",
              "      <td>48.900000</td>\n",
              "      <td>17.033333</td>\n",
              "      <td>45.53</td>\n",
              "      <td>6.600000</td>\n",
              "      <td>733.5</td>\n",
              "      <td>92.0</td>\n",
              "      <td>7.000000</td>\n",
              "      <td>63.000000</td>\n",
              "      <td>5.3</td>\n",
              "      <td>13.275433</td>\n",
              "      <td>13.275433</td>\n",
              "    </tr>\n",
              "    <tr>\n",
              "      <th>1</th>\n",
              "      <td>2016-01-11 17:10:00</td>\n",
              "      <td>60</td>\n",
              "      <td>30</td>\n",
              "      <td>19.89</td>\n",
              "      <td>46.693333</td>\n",
              "      <td>19.2</td>\n",
              "      <td>44.722500</td>\n",
              "      <td>19.79</td>\n",
              "      <td>44.790000</td>\n",
              "      <td>19.000000</td>\n",
              "      <td>45.992500</td>\n",
              "      <td>17.166667</td>\n",
              "      <td>55.20</td>\n",
              "      <td>6.833333</td>\n",
              "      <td>84.063333</td>\n",
              "      <td>17.200000</td>\n",
              "      <td>41.560000</td>\n",
              "      <td>18.2</td>\n",
              "      <td>48.863333</td>\n",
              "      <td>17.066667</td>\n",
              "      <td>45.56</td>\n",
              "      <td>6.483333</td>\n",
              "      <td>733.6</td>\n",
              "      <td>92.0</td>\n",
              "      <td>6.666667</td>\n",
              "      <td>59.166667</td>\n",
              "      <td>5.2</td>\n",
              "      <td>18.606195</td>\n",
              "      <td>18.606195</td>\n",
              "    </tr>\n",
              "    <tr>\n",
              "      <th>2</th>\n",
              "      <td>2016-01-11 17:20:00</td>\n",
              "      <td>50</td>\n",
              "      <td>30</td>\n",
              "      <td>19.89</td>\n",
              "      <td>46.300000</td>\n",
              "      <td>19.2</td>\n",
              "      <td>44.626667</td>\n",
              "      <td>19.79</td>\n",
              "      <td>44.933333</td>\n",
              "      <td>18.926667</td>\n",
              "      <td>45.890000</td>\n",
              "      <td>17.166667</td>\n",
              "      <td>55.09</td>\n",
              "      <td>6.560000</td>\n",
              "      <td>83.156667</td>\n",
              "      <td>17.200000</td>\n",
              "      <td>41.433333</td>\n",
              "      <td>18.2</td>\n",
              "      <td>48.730000</td>\n",
              "      <td>17.000000</td>\n",
              "      <td>45.50</td>\n",
              "      <td>6.366667</td>\n",
              "      <td>733.7</td>\n",
              "      <td>92.0</td>\n",
              "      <td>6.333333</td>\n",
              "      <td>55.333333</td>\n",
              "      <td>5.1</td>\n",
              "      <td>28.642668</td>\n",
              "      <td>28.642668</td>\n",
              "    </tr>\n",
              "    <tr>\n",
              "      <th>3</th>\n",
              "      <td>2016-01-11 17:30:00</td>\n",
              "      <td>50</td>\n",
              "      <td>40</td>\n",
              "      <td>19.89</td>\n",
              "      <td>46.066667</td>\n",
              "      <td>19.2</td>\n",
              "      <td>44.590000</td>\n",
              "      <td>19.79</td>\n",
              "      <td>45.000000</td>\n",
              "      <td>18.890000</td>\n",
              "      <td>45.723333</td>\n",
              "      <td>17.166667</td>\n",
              "      <td>55.09</td>\n",
              "      <td>6.433333</td>\n",
              "      <td>83.423333</td>\n",
              "      <td>17.133333</td>\n",
              "      <td>41.290000</td>\n",
              "      <td>18.1</td>\n",
              "      <td>48.590000</td>\n",
              "      <td>17.000000</td>\n",
              "      <td>45.40</td>\n",
              "      <td>6.250000</td>\n",
              "      <td>733.8</td>\n",
              "      <td>92.0</td>\n",
              "      <td>6.000000</td>\n",
              "      <td>51.500000</td>\n",
              "      <td>5.0</td>\n",
              "      <td>45.410389</td>\n",
              "      <td>45.410389</td>\n",
              "    </tr>\n",
              "    <tr>\n",
              "      <th>4</th>\n",
              "      <td>2016-01-11 17:40:00</td>\n",
              "      <td>60</td>\n",
              "      <td>40</td>\n",
              "      <td>19.89</td>\n",
              "      <td>46.333333</td>\n",
              "      <td>19.2</td>\n",
              "      <td>44.530000</td>\n",
              "      <td>19.79</td>\n",
              "      <td>45.000000</td>\n",
              "      <td>18.890000</td>\n",
              "      <td>45.530000</td>\n",
              "      <td>17.200000</td>\n",
              "      <td>55.09</td>\n",
              "      <td>6.366667</td>\n",
              "      <td>84.893333</td>\n",
              "      <td>17.200000</td>\n",
              "      <td>41.230000</td>\n",
              "      <td>18.1</td>\n",
              "      <td>48.590000</td>\n",
              "      <td>17.000000</td>\n",
              "      <td>45.40</td>\n",
              "      <td>6.133333</td>\n",
              "      <td>733.9</td>\n",
              "      <td>92.0</td>\n",
              "      <td>5.666667</td>\n",
              "      <td>47.666667</td>\n",
              "      <td>4.9</td>\n",
              "      <td>10.084097</td>\n",
              "      <td>10.084097</td>\n",
              "    </tr>\n",
              "  </tbody>\n",
              "</table>\n",
              "</div>"
            ],
            "text/plain": [
              "                  date  ...  Random_var2_nondimensional\n",
              "0  2016-01-11 17:00:00  ...                   13.275433\n",
              "1  2016-01-11 17:10:00  ...                   18.606195\n",
              "2  2016-01-11 17:20:00  ...                   28.642668\n",
              "3  2016-01-11 17:30:00  ...                   45.410389\n",
              "4  2016-01-11 17:40:00  ...                   10.084097\n",
              "\n",
              "[5 rows x 29 columns]"
            ]
          },
          "metadata": {
            "tags": []
          },
          "execution_count": 113
        }
      ]
    },
    {
      "cell_type": "code",
      "metadata": {
        "id": "pqrirIEI6Y0U",
        "colab_type": "code",
        "colab": {}
      },
      "source": [
        "#Extracting year and Month\n",
        "\n",
        "col_change_data['Year'] = pd.DatetimeIndex(col_change_data['date']).year\n",
        "\n",
        "col_change_data['Month'] = pd.DatetimeIndex(col_change_data['date']).month"
      ],
      "execution_count": 122,
      "outputs": []
    },
    {
      "cell_type": "code",
      "metadata": {
        "id": "onqHe8jWavsi",
        "colab_type": "code",
        "colab": {}
      },
      "source": [
        ""
      ],
      "execution_count": 102,
      "outputs": []
    },
    {
      "cell_type": "code",
      "metadata": {
        "id": "rAzJXboC6Y6Y",
        "colab_type": "code",
        "colab": {}
      },
      "source": [
        "#Month_Name\n",
        "\n",
        "col_change_data['Month_Name'] = col_change_data['Month'].apply(lambda x: calendar.month_abbr[x])"
      ],
      "execution_count": 123,
      "outputs": []
    },
    {
      "cell_type": "code",
      "metadata": {
        "id": "5ghulSYl6Y96",
        "colab_type": "code",
        "colab": {
          "base_uri": "https://localhost:8080/",
          "height": 136
        },
        "outputId": "36659137-c44e-4d5b-bf2a-56ef365f1003"
      },
      "source": [
        "col_change_data.groupby('Month_Name')['Appliances'].sum()"
      ],
      "execution_count": 126,
      "outputs": [
        {
          "output_type": "execute_result",
          "data": {
            "text/plain": [
              "Month_Name\n",
              "Apr    427200\n",
              "Feb    421550\n",
              "Jan    283510\n",
              "Mar    432800\n",
              "May    362950\n",
              "Name: Appliances, dtype: int64"
            ]
          },
          "metadata": {
            "tags": []
          },
          "execution_count": 126
        }
      ]
    },
    {
      "cell_type": "code",
      "metadata": {
        "id": "qL7R-DOry7yz",
        "colab_type": "code",
        "colab": {
          "base_uri": "https://localhost:8080/",
          "height": 256
        },
        "outputId": "70647c22-d22d-43f4-ea31-8d850b2de35d"
      },
      "source": [
        "col_change_data.columns"
      ],
      "execution_count": 148,
      "outputs": [
        {
          "output_type": "execute_result",
          "data": {
            "text/plain": [
              "Index(['date', 'Appliances', 'lights', 'kitchen_Temp_Celsius',\n",
              "       'kitchen_Humidity%', 'living_room_Temp_Celsius',\n",
              "       'living_room_Humidity%', 'laundry_room_Temp', 'laundry_room_Humidity%',\n",
              "       'office_room_Temp_Celsius', 'office_room_Humidity%',\n",
              "       'bathroom_Temp_Celsius', 'bathroom_Humidity%',\n",
              "       'outside_building_North_Temp_Celsius',\n",
              "       'outside_building_North_Humidity_%', 'ironing_room_Temp_Celsius',\n",
              "       'ironing room_Humidity%', 'teenager_room_Temp_Celsius',\n",
              "       'teenager_room_Humidity%', 'parents_room_Temp_Celsius',\n",
              "       'parents_room_Humidity%', 'outside_Chievres_stattion_Temp_Celsius',\n",
              "       'Press_mm_hg', 'RH_out', 'Windspeed', 'Visibility', 'Tdewpoint',\n",
              "       'Random_var1_nondimensional', 'Random_var2_nondimensional', 'Year',\n",
              "       'Month', 'Month_Name'],\n",
              "      dtype='object')"
            ]
          },
          "metadata": {
            "tags": []
          },
          "execution_count": 148
        }
      ]
    },
    {
      "cell_type": "code",
      "metadata": {
        "id": "_qrz_bTgyVwl",
        "colab_type": "code",
        "colab": {}
      },
      "source": [
        "#From the dataset, fit a linear model on the relationship between\n",
        " #the temperature in the living room in Celsius (x = T2) and \n",
        "# the temperature outside the building (y = T6). What is the R^2 value in two D.P?"
      ],
      "execution_count": null,
      "outputs": []
    },
    {
      "cell_type": "code",
      "metadata": {
        "id": "33f62XC72OHq",
        "colab_type": "code",
        "colab": {}
      },
      "source": [
        "simple_linear_reg_df = col_change_data[['living_room_Temp_Celsius', 'outside_building_North_Temp_Celsius']]"
      ],
      "execution_count": 224,
      "outputs": []
    },
    {
      "cell_type": "code",
      "metadata": {
        "id": "VabKM6N32XY2",
        "colab_type": "code",
        "colab": {
          "base_uri": "https://localhost:8080/",
          "height": 197
        },
        "outputId": "c257590c-6347-4116-b738-0da2b5d1c7e8"
      },
      "source": [
        "simple_linear_reg_df.head()"
      ],
      "execution_count": 225,
      "outputs": [
        {
          "output_type": "execute_result",
          "data": {
            "text/html": [
              "<div>\n",
              "<style scoped>\n",
              "    .dataframe tbody tr th:only-of-type {\n",
              "        vertical-align: middle;\n",
              "    }\n",
              "\n",
              "    .dataframe tbody tr th {\n",
              "        vertical-align: top;\n",
              "    }\n",
              "\n",
              "    .dataframe thead th {\n",
              "        text-align: right;\n",
              "    }\n",
              "</style>\n",
              "<table border=\"1\" class=\"dataframe\">\n",
              "  <thead>\n",
              "    <tr style=\"text-align: right;\">\n",
              "      <th></th>\n",
              "      <th>living_room_Temp_Celsius</th>\n",
              "      <th>outside_building_North_Temp_Celsius</th>\n",
              "    </tr>\n",
              "  </thead>\n",
              "  <tbody>\n",
              "    <tr>\n",
              "      <th>0</th>\n",
              "      <td>19.2</td>\n",
              "      <td>7.026667</td>\n",
              "    </tr>\n",
              "    <tr>\n",
              "      <th>1</th>\n",
              "      <td>19.2</td>\n",
              "      <td>6.833333</td>\n",
              "    </tr>\n",
              "    <tr>\n",
              "      <th>2</th>\n",
              "      <td>19.2</td>\n",
              "      <td>6.560000</td>\n",
              "    </tr>\n",
              "    <tr>\n",
              "      <th>3</th>\n",
              "      <td>19.2</td>\n",
              "      <td>6.433333</td>\n",
              "    </tr>\n",
              "    <tr>\n",
              "      <th>4</th>\n",
              "      <td>19.2</td>\n",
              "      <td>6.366667</td>\n",
              "    </tr>\n",
              "  </tbody>\n",
              "</table>\n",
              "</div>"
            ],
            "text/plain": [
              "   living_room_Temp_Celsius  outside_building_North_Temp_Celsius\n",
              "0                      19.2                             7.026667\n",
              "1                      19.2                             6.833333\n",
              "2                      19.2                             6.560000\n",
              "3                      19.2                             6.433333\n",
              "4                      19.2                             6.366667"
            ]
          },
          "metadata": {
            "tags": []
          },
          "execution_count": 225
        }
      ]
    },
    {
      "cell_type": "code",
      "metadata": {
        "id": "1keyru5pyV0Z",
        "colab_type": "code",
        "colab": {}
      },
      "source": [
        "norm_data_features2 = simple_linear_reg_df.drop(columns=['outside_building_North_Temp_Celsius'])\n",
        "                                      \n",
        "norm_data_target2 = simple_linear_reg_df['outside_building_North_Temp_Celsius']\n",
        "\n",
        "x_train2, x_test2, y_train2, y_test2 = train_test_split(norm_data_features2, norm_data_target2, test_size=0.3, random_state=42)\n",
        "\n",
        "\n"
      ],
      "execution_count": 226,
      "outputs": []
    },
    {
      "cell_type": "code",
      "metadata": {
        "id": "SbgruXCP_LP4",
        "colab_type": "code",
        "colab": {}
      },
      "source": [
        "\n",
        "linear_model2 = LinearRegression()\n",
        "#fit the model to the training dataset\n",
        "linear_model2.fit(x_train2, y_train2)\n",
        "#obtain predictions\n",
        "predicted_values2 = linear_model2.predict(x_test2)"
      ],
      "execution_count": 227,
      "outputs": []
    },
    {
      "cell_type": "code",
      "metadata": {
        "id": "JYbkfXsw_l9M",
        "colab_type": "code",
        "colab": {
          "base_uri": "https://localhost:8080/",
          "height": 51
        },
        "outputId": "e6239727-e43a-4e0e-8cc7-5789161159b8"
      },
      "source": [
        "predicted_values2"
      ],
      "execution_count": 235,
      "outputs": [
        {
          "output_type": "execute_result",
          "data": {
            "text/plain": [
              "array([ 2.15578912, 10.01116055,  1.87391554, ...,  4.24758774,\n",
              "        8.69822311,  4.9893603 ])"
            ]
          },
          "metadata": {
            "tags": []
          },
          "execution_count": 235
        }
      ]
    },
    {
      "cell_type": "code",
      "metadata": {
        "id": "QuRIvOFyAEpa",
        "colab_type": "code",
        "colab": {
          "base_uri": "https://localhost:8080/",
          "height": 34
        },
        "outputId": "f6b55066-2758-445c-f4f8-dc2f76810d11"
      },
      "source": [
        "from sklearn.metrics import r2_score\n",
        "r2_score2 = r2_score(y_test2, predicted_values2)\n",
        "round(r2_score2, 2)\t"
      ],
      "execution_count": 241,
      "outputs": [
        {
          "output_type": "execute_result",
          "data": {
            "text/plain": [
              "0.64"
            ]
          },
          "metadata": {
            "tags": []
          },
          "execution_count": 241
        }
      ]
    },
    {
      "cell_type": "code",
      "metadata": {
        "id": "D69E8y4TyV4G",
        "colab_type": "code",
        "colab": {
          "base_uri": "https://localhost:8080/",
          "height": 34
        },
        "outputId": "57cca337-b93c-44d1-be0c-86d4342ce933"
      },
      "source": [
        "#What is the Mean Absolute Error (in two decimal places)?\n",
        "\n",
        "mae2 = mean_absolute_error(y_test2, predicted_values2)\n",
        "round(mae2, 2) \t"
      ],
      "execution_count": 236,
      "outputs": [
        {
          "output_type": "execute_result",
          "data": {
            "text/plain": [
              "2.82"
            ]
          },
          "metadata": {
            "tags": []
          },
          "execution_count": 236
        }
      ]
    },
    {
      "cell_type": "code",
      "metadata": {
        "id": "nuW7E62qyV7e",
        "colab_type": "code",
        "colab": {
          "base_uri": "https://localhost:8080/",
          "height": 34
        },
        "outputId": "8f2e44ef-5aa1-48dd-e3b4-c14fe7867c61"
      },
      "source": [
        "#What is the Residual Sum of Squares (in two decimal places)?\n",
        "\n",
        "rss2 = np.sum(np.square(y_test2 - predicted_values2))\n",
        "round(rss2, 2)\t    "
      ],
      "execution_count": 237,
      "outputs": [
        {
          "output_type": "execute_result",
          "data": {
            "text/plain": [
              "78033.97"
            ]
          },
          "metadata": {
            "tags": []
          },
          "execution_count": 237
        }
      ]
    },
    {
      "cell_type": "code",
      "metadata": {
        "id": "5z6kQhWb3fiM",
        "colab_type": "code",
        "colab": {
          "base_uri": "https://localhost:8080/",
          "height": 34
        },
        "outputId": "76eec115-b20b-4f77-d164-5c9d9c77e7a2"
      },
      "source": [
        "#What is the Root Mean Squared Error (in three decimal places)?\n",
        "rmse2 = np.sqrt(mean_squared_error(y_test2, predicted_values2))\n",
        "round(rmse2, 2) "
      ],
      "execution_count": 238,
      "outputs": [
        {
          "output_type": "execute_result",
          "data": {
            "text/plain": [
              "3.63"
            ]
          },
          "metadata": {
            "tags": []
          },
          "execution_count": 238
        }
      ]
    },
    {
      "cell_type": "code",
      "metadata": {
        "id": "1we_30HA6T00",
        "colab_type": "code",
        "colab": {}
      },
      "source": [
        ""
      ],
      "execution_count": 185,
      "outputs": []
    },
    {
      "cell_type": "code",
      "metadata": {
        "id": "n75wvlKA3fly",
        "colab_type": "code",
        "colab": {}
      },
      "source": [
        ""
      ],
      "execution_count": null,
      "outputs": []
    },
    {
      "cell_type": "code",
      "metadata": {
        "id": "QYlpmyYY6ZBE",
        "colab_type": "code",
        "colab": {
          "base_uri": "https://localhost:8080/",
          "height": 405
        },
        "outputId": "9f68dd20-b7c7-40a0-d691-dd6753854742"
      },
      "source": [
        "col_change_data.head()"
      ],
      "execution_count": 125,
      "outputs": [
        {
          "output_type": "execute_result",
          "data": {
            "text/html": [
              "<div>\n",
              "<style scoped>\n",
              "    .dataframe tbody tr th:only-of-type {\n",
              "        vertical-align: middle;\n",
              "    }\n",
              "\n",
              "    .dataframe tbody tr th {\n",
              "        vertical-align: top;\n",
              "    }\n",
              "\n",
              "    .dataframe thead th {\n",
              "        text-align: right;\n",
              "    }\n",
              "</style>\n",
              "<table border=\"1\" class=\"dataframe\">\n",
              "  <thead>\n",
              "    <tr style=\"text-align: right;\">\n",
              "      <th></th>\n",
              "      <th>date</th>\n",
              "      <th>Appliances</th>\n",
              "      <th>lights</th>\n",
              "      <th>kitchen_Temp_Celsius</th>\n",
              "      <th>kitchen_Humidity%</th>\n",
              "      <th>living_room_Temp_Celsius</th>\n",
              "      <th>living_room_Humidity%</th>\n",
              "      <th>laundry_room_Temp</th>\n",
              "      <th>laundry_room_Humidity%</th>\n",
              "      <th>office_room_Temp_Celsius</th>\n",
              "      <th>office_room_Humidity%</th>\n",
              "      <th>bathroom_Temp_Celsius</th>\n",
              "      <th>bathroom_Humidity%</th>\n",
              "      <th>outside_building_North_Temp_Celsius</th>\n",
              "      <th>outside_building_North_Humidity_%</th>\n",
              "      <th>ironing_room_Temp_Celsius</th>\n",
              "      <th>ironing room_Humidity%</th>\n",
              "      <th>teenager_room_Temp_Celsius</th>\n",
              "      <th>teenager_room_Humidity%</th>\n",
              "      <th>parents_room_Temp_Celsius</th>\n",
              "      <th>parents_room_Humidity%</th>\n",
              "      <th>outside_Chievres_stattion_Temp_Celsius</th>\n",
              "      <th>Press_mm_hg</th>\n",
              "      <th>RH_out</th>\n",
              "      <th>Windspeed</th>\n",
              "      <th>Visibility</th>\n",
              "      <th>Tdewpoint</th>\n",
              "      <th>Random_var1_nondimensional</th>\n",
              "      <th>Random_var2_nondimensional</th>\n",
              "      <th>Year</th>\n",
              "      <th>Month</th>\n",
              "      <th>Month_Name</th>\n",
              "    </tr>\n",
              "  </thead>\n",
              "  <tbody>\n",
              "    <tr>\n",
              "      <th>0</th>\n",
              "      <td>2016-01-11 17:00:00</td>\n",
              "      <td>60</td>\n",
              "      <td>30</td>\n",
              "      <td>19.89</td>\n",
              "      <td>47.596667</td>\n",
              "      <td>19.2</td>\n",
              "      <td>44.790000</td>\n",
              "      <td>19.79</td>\n",
              "      <td>44.730000</td>\n",
              "      <td>19.000000</td>\n",
              "      <td>45.566667</td>\n",
              "      <td>17.166667</td>\n",
              "      <td>55.20</td>\n",
              "      <td>7.026667</td>\n",
              "      <td>84.256667</td>\n",
              "      <td>17.200000</td>\n",
              "      <td>41.626667</td>\n",
              "      <td>18.2</td>\n",
              "      <td>48.900000</td>\n",
              "      <td>17.033333</td>\n",
              "      <td>45.53</td>\n",
              "      <td>6.600000</td>\n",
              "      <td>733.5</td>\n",
              "      <td>92.0</td>\n",
              "      <td>7.000000</td>\n",
              "      <td>63.000000</td>\n",
              "      <td>5.3</td>\n",
              "      <td>13.275433</td>\n",
              "      <td>13.275433</td>\n",
              "      <td>2016</td>\n",
              "      <td>1</td>\n",
              "      <td>Jan</td>\n",
              "    </tr>\n",
              "    <tr>\n",
              "      <th>1</th>\n",
              "      <td>2016-01-11 17:10:00</td>\n",
              "      <td>60</td>\n",
              "      <td>30</td>\n",
              "      <td>19.89</td>\n",
              "      <td>46.693333</td>\n",
              "      <td>19.2</td>\n",
              "      <td>44.722500</td>\n",
              "      <td>19.79</td>\n",
              "      <td>44.790000</td>\n",
              "      <td>19.000000</td>\n",
              "      <td>45.992500</td>\n",
              "      <td>17.166667</td>\n",
              "      <td>55.20</td>\n",
              "      <td>6.833333</td>\n",
              "      <td>84.063333</td>\n",
              "      <td>17.200000</td>\n",
              "      <td>41.560000</td>\n",
              "      <td>18.2</td>\n",
              "      <td>48.863333</td>\n",
              "      <td>17.066667</td>\n",
              "      <td>45.56</td>\n",
              "      <td>6.483333</td>\n",
              "      <td>733.6</td>\n",
              "      <td>92.0</td>\n",
              "      <td>6.666667</td>\n",
              "      <td>59.166667</td>\n",
              "      <td>5.2</td>\n",
              "      <td>18.606195</td>\n",
              "      <td>18.606195</td>\n",
              "      <td>2016</td>\n",
              "      <td>1</td>\n",
              "      <td>Jan</td>\n",
              "    </tr>\n",
              "    <tr>\n",
              "      <th>2</th>\n",
              "      <td>2016-01-11 17:20:00</td>\n",
              "      <td>50</td>\n",
              "      <td>30</td>\n",
              "      <td>19.89</td>\n",
              "      <td>46.300000</td>\n",
              "      <td>19.2</td>\n",
              "      <td>44.626667</td>\n",
              "      <td>19.79</td>\n",
              "      <td>44.933333</td>\n",
              "      <td>18.926667</td>\n",
              "      <td>45.890000</td>\n",
              "      <td>17.166667</td>\n",
              "      <td>55.09</td>\n",
              "      <td>6.560000</td>\n",
              "      <td>83.156667</td>\n",
              "      <td>17.200000</td>\n",
              "      <td>41.433333</td>\n",
              "      <td>18.2</td>\n",
              "      <td>48.730000</td>\n",
              "      <td>17.000000</td>\n",
              "      <td>45.50</td>\n",
              "      <td>6.366667</td>\n",
              "      <td>733.7</td>\n",
              "      <td>92.0</td>\n",
              "      <td>6.333333</td>\n",
              "      <td>55.333333</td>\n",
              "      <td>5.1</td>\n",
              "      <td>28.642668</td>\n",
              "      <td>28.642668</td>\n",
              "      <td>2016</td>\n",
              "      <td>1</td>\n",
              "      <td>Jan</td>\n",
              "    </tr>\n",
              "    <tr>\n",
              "      <th>3</th>\n",
              "      <td>2016-01-11 17:30:00</td>\n",
              "      <td>50</td>\n",
              "      <td>40</td>\n",
              "      <td>19.89</td>\n",
              "      <td>46.066667</td>\n",
              "      <td>19.2</td>\n",
              "      <td>44.590000</td>\n",
              "      <td>19.79</td>\n",
              "      <td>45.000000</td>\n",
              "      <td>18.890000</td>\n",
              "      <td>45.723333</td>\n",
              "      <td>17.166667</td>\n",
              "      <td>55.09</td>\n",
              "      <td>6.433333</td>\n",
              "      <td>83.423333</td>\n",
              "      <td>17.133333</td>\n",
              "      <td>41.290000</td>\n",
              "      <td>18.1</td>\n",
              "      <td>48.590000</td>\n",
              "      <td>17.000000</td>\n",
              "      <td>45.40</td>\n",
              "      <td>6.250000</td>\n",
              "      <td>733.8</td>\n",
              "      <td>92.0</td>\n",
              "      <td>6.000000</td>\n",
              "      <td>51.500000</td>\n",
              "      <td>5.0</td>\n",
              "      <td>45.410389</td>\n",
              "      <td>45.410389</td>\n",
              "      <td>2016</td>\n",
              "      <td>1</td>\n",
              "      <td>Jan</td>\n",
              "    </tr>\n",
              "    <tr>\n",
              "      <th>4</th>\n",
              "      <td>2016-01-11 17:40:00</td>\n",
              "      <td>60</td>\n",
              "      <td>40</td>\n",
              "      <td>19.89</td>\n",
              "      <td>46.333333</td>\n",
              "      <td>19.2</td>\n",
              "      <td>44.530000</td>\n",
              "      <td>19.79</td>\n",
              "      <td>45.000000</td>\n",
              "      <td>18.890000</td>\n",
              "      <td>45.530000</td>\n",
              "      <td>17.200000</td>\n",
              "      <td>55.09</td>\n",
              "      <td>6.366667</td>\n",
              "      <td>84.893333</td>\n",
              "      <td>17.200000</td>\n",
              "      <td>41.230000</td>\n",
              "      <td>18.1</td>\n",
              "      <td>48.590000</td>\n",
              "      <td>17.000000</td>\n",
              "      <td>45.40</td>\n",
              "      <td>6.133333</td>\n",
              "      <td>733.9</td>\n",
              "      <td>92.0</td>\n",
              "      <td>5.666667</td>\n",
              "      <td>47.666667</td>\n",
              "      <td>4.9</td>\n",
              "      <td>10.084097</td>\n",
              "      <td>10.084097</td>\n",
              "      <td>2016</td>\n",
              "      <td>1</td>\n",
              "      <td>Jan</td>\n",
              "    </tr>\n",
              "  </tbody>\n",
              "</table>\n",
              "</div>"
            ],
            "text/plain": [
              "                  date  Appliances  lights  ...  Year  Month  Month_Name\n",
              "0  2016-01-11 17:00:00          60      30  ...  2016      1         Jan\n",
              "1  2016-01-11 17:10:00          60      30  ...  2016      1         Jan\n",
              "2  2016-01-11 17:20:00          50      30  ...  2016      1         Jan\n",
              "3  2016-01-11 17:30:00          50      40  ...  2016      1         Jan\n",
              "4  2016-01-11 17:40:00          60      40  ...  2016      1         Jan\n",
              "\n",
              "[5 rows x 32 columns]"
            ]
          },
          "metadata": {
            "tags": []
          },
          "execution_count": 125
        }
      ]
    },
    {
      "cell_type": "code",
      "metadata": {
        "id": "FcqEfTY06ZIi",
        "colab_type": "code",
        "colab": {}
      },
      "source": [
        ""
      ],
      "execution_count": null,
      "outputs": []
    },
    {
      "cell_type": "code",
      "metadata": {
        "id": "L-wH7iOr6Y38",
        "colab_type": "code",
        "colab": {}
      },
      "source": [
        ""
      ],
      "execution_count": null,
      "outputs": []
    },
    {
      "cell_type": "markdown",
      "metadata": {
        "id": "lmyCHfeKgZFu",
        "colab_type": "text"
      },
      "source": [
        "#Normalizing Data"
      ]
    },
    {
      "cell_type": "code",
      "metadata": {
        "id": "FsPCEiLgfdiJ",
        "colab_type": "code",
        "colab": {}
      },
      "source": [
        "scaler = MinMaxScaler()\n",
        "\n",
        "col_change_data3 = col_change_data2.copy()\n",
        "\n",
        "normalised_data = col_change_data3.drop(columns=['date', 'lights'])\n"
      ],
      "execution_count": 242,
      "outputs": []
    },
    {
      "cell_type": "code",
      "metadata": {
        "id": "FES88z6ZiTjy",
        "colab_type": "code",
        "colab": {
          "base_uri": "https://localhost:8080/",
          "height": 34
        },
        "outputId": "e3b13813-d7b6-498e-ee3a-8ff80cf25fe5"
      },
      "source": [
        "normalised_data.shape"
      ],
      "execution_count": 186,
      "outputs": [
        {
          "output_type": "execute_result",
          "data": {
            "text/plain": [
              "(19735, 27)"
            ]
          },
          "metadata": {
            "tags": []
          },
          "execution_count": 186
        }
      ]
    },
    {
      "cell_type": "code",
      "metadata": {
        "id": "m-ZFrtikiQE3",
        "colab_type": "code",
        "colab": {}
      },
      "source": [
        "\n",
        "normalised_data = pd.DataFrame(scaler.fit_transform(normalised_data), columns=normalised_data.columns)\n",
        "\n"
      ],
      "execution_count": 243,
      "outputs": []
    },
    {
      "cell_type": "code",
      "metadata": {
        "id": "X--nVXDtiuz-",
        "colab_type": "code",
        "colab": {
          "base_uri": "https://localhost:8080/",
          "height": 234
        },
        "outputId": "68e67714-5a40-41e3-d83e-49f829b7a21d"
      },
      "source": [
        "normalised_data.head()"
      ],
      "execution_count": 117,
      "outputs": [
        {
          "output_type": "execute_result",
          "data": {
            "text/html": [
              "<div>\n",
              "<style scoped>\n",
              "    .dataframe tbody tr th:only-of-type {\n",
              "        vertical-align: middle;\n",
              "    }\n",
              "\n",
              "    .dataframe tbody tr th {\n",
              "        vertical-align: top;\n",
              "    }\n",
              "\n",
              "    .dataframe thead th {\n",
              "        text-align: right;\n",
              "    }\n",
              "</style>\n",
              "<table border=\"1\" class=\"dataframe\">\n",
              "  <thead>\n",
              "    <tr style=\"text-align: right;\">\n",
              "      <th></th>\n",
              "      <th>Appliances</th>\n",
              "      <th>kitchen_Temp_Celsius</th>\n",
              "      <th>kitchen_Humidity%</th>\n",
              "      <th>living_room_Temp_Celsius</th>\n",
              "      <th>living_room_Humidity%</th>\n",
              "      <th>laundry_room_Temp</th>\n",
              "      <th>laundry_room_Humidity%</th>\n",
              "      <th>office_room_Temp_Celsius</th>\n",
              "      <th>office_room_Humidity%</th>\n",
              "      <th>bathroom_Temp_Celsius</th>\n",
              "      <th>bathroom_Humidity%</th>\n",
              "      <th>outside_building_North_Temp_Celsius</th>\n",
              "      <th>outside_building_North_Humidity_%</th>\n",
              "      <th>ironing_room_Temp_Celsius</th>\n",
              "      <th>ironing room_Humidity%</th>\n",
              "      <th>teenager_room_Temp_Celsius</th>\n",
              "      <th>teenager_room_Humidity%</th>\n",
              "      <th>parents_room_Temp_Celsius</th>\n",
              "      <th>parents_room_Humidity%</th>\n",
              "      <th>outside_Chievres_stattion_Temp_Celsius</th>\n",
              "      <th>Press_mm_hg</th>\n",
              "      <th>RH_out</th>\n",
              "      <th>Windspeed</th>\n",
              "      <th>Visibility</th>\n",
              "      <th>Tdewpoint</th>\n",
              "      <th>Random_var1_nondimensional</th>\n",
              "      <th>Random_var2_nondimensional</th>\n",
              "    </tr>\n",
              "  </thead>\n",
              "  <tbody>\n",
              "    <tr>\n",
              "      <th>0</th>\n",
              "      <td>0.046729</td>\n",
              "      <td>0.32735</td>\n",
              "      <td>0.566187</td>\n",
              "      <td>0.225345</td>\n",
              "      <td>0.684038</td>\n",
              "      <td>0.215188</td>\n",
              "      <td>0.746066</td>\n",
              "      <td>0.351351</td>\n",
              "      <td>0.764262</td>\n",
              "      <td>0.175506</td>\n",
              "      <td>0.381691</td>\n",
              "      <td>0.381070</td>\n",
              "      <td>0.841827</td>\n",
              "      <td>0.170594</td>\n",
              "      <td>0.653428</td>\n",
              "      <td>0.173329</td>\n",
              "      <td>0.661412</td>\n",
              "      <td>0.223032</td>\n",
              "      <td>0.677290</td>\n",
              "      <td>0.372990</td>\n",
              "      <td>0.097674</td>\n",
              "      <td>0.894737</td>\n",
              "      <td>0.500000</td>\n",
              "      <td>0.953846</td>\n",
              "      <td>0.538462</td>\n",
              "      <td>0.265449</td>\n",
              "      <td>0.265449</td>\n",
              "    </tr>\n",
              "    <tr>\n",
              "      <th>1</th>\n",
              "      <td>0.046729</td>\n",
              "      <td>0.32735</td>\n",
              "      <td>0.541326</td>\n",
              "      <td>0.225345</td>\n",
              "      <td>0.682140</td>\n",
              "      <td>0.215188</td>\n",
              "      <td>0.748871</td>\n",
              "      <td>0.351351</td>\n",
              "      <td>0.782437</td>\n",
              "      <td>0.175506</td>\n",
              "      <td>0.381691</td>\n",
              "      <td>0.375443</td>\n",
              "      <td>0.839872</td>\n",
              "      <td>0.170594</td>\n",
              "      <td>0.651064</td>\n",
              "      <td>0.173329</td>\n",
              "      <td>0.660155</td>\n",
              "      <td>0.226500</td>\n",
              "      <td>0.678532</td>\n",
              "      <td>0.369239</td>\n",
              "      <td>0.100000</td>\n",
              "      <td>0.894737</td>\n",
              "      <td>0.476190</td>\n",
              "      <td>0.894872</td>\n",
              "      <td>0.533937</td>\n",
              "      <td>0.372083</td>\n",
              "      <td>0.372083</td>\n",
              "    </tr>\n",
              "    <tr>\n",
              "      <th>2</th>\n",
              "      <td>0.037383</td>\n",
              "      <td>0.32735</td>\n",
              "      <td>0.530502</td>\n",
              "      <td>0.225345</td>\n",
              "      <td>0.679445</td>\n",
              "      <td>0.215188</td>\n",
              "      <td>0.755569</td>\n",
              "      <td>0.344745</td>\n",
              "      <td>0.778062</td>\n",
              "      <td>0.175506</td>\n",
              "      <td>0.380037</td>\n",
              "      <td>0.367487</td>\n",
              "      <td>0.830704</td>\n",
              "      <td>0.170594</td>\n",
              "      <td>0.646572</td>\n",
              "      <td>0.173329</td>\n",
              "      <td>0.655586</td>\n",
              "      <td>0.219563</td>\n",
              "      <td>0.676049</td>\n",
              "      <td>0.365488</td>\n",
              "      <td>0.102326</td>\n",
              "      <td>0.894737</td>\n",
              "      <td>0.452381</td>\n",
              "      <td>0.835897</td>\n",
              "      <td>0.529412</td>\n",
              "      <td>0.572848</td>\n",
              "      <td>0.572848</td>\n",
              "    </tr>\n",
              "    <tr>\n",
              "      <th>3</th>\n",
              "      <td>0.037383</td>\n",
              "      <td>0.32735</td>\n",
              "      <td>0.524080</td>\n",
              "      <td>0.225345</td>\n",
              "      <td>0.678414</td>\n",
              "      <td>0.215188</td>\n",
              "      <td>0.758685</td>\n",
              "      <td>0.341441</td>\n",
              "      <td>0.770949</td>\n",
              "      <td>0.175506</td>\n",
              "      <td>0.380037</td>\n",
              "      <td>0.363800</td>\n",
              "      <td>0.833401</td>\n",
              "      <td>0.164310</td>\n",
              "      <td>0.641489</td>\n",
              "      <td>0.164175</td>\n",
              "      <td>0.650788</td>\n",
              "      <td>0.219563</td>\n",
              "      <td>0.671909</td>\n",
              "      <td>0.361736</td>\n",
              "      <td>0.104651</td>\n",
              "      <td>0.894737</td>\n",
              "      <td>0.428571</td>\n",
              "      <td>0.776923</td>\n",
              "      <td>0.524887</td>\n",
              "      <td>0.908261</td>\n",
              "      <td>0.908261</td>\n",
              "    </tr>\n",
              "    <tr>\n",
              "      <th>4</th>\n",
              "      <td>0.046729</td>\n",
              "      <td>0.32735</td>\n",
              "      <td>0.531419</td>\n",
              "      <td>0.225345</td>\n",
              "      <td>0.676727</td>\n",
              "      <td>0.215188</td>\n",
              "      <td>0.758685</td>\n",
              "      <td>0.341441</td>\n",
              "      <td>0.762697</td>\n",
              "      <td>0.178691</td>\n",
              "      <td>0.380037</td>\n",
              "      <td>0.361859</td>\n",
              "      <td>0.848264</td>\n",
              "      <td>0.170594</td>\n",
              "      <td>0.639362</td>\n",
              "      <td>0.164175</td>\n",
              "      <td>0.650788</td>\n",
              "      <td>0.219563</td>\n",
              "      <td>0.671909</td>\n",
              "      <td>0.357985</td>\n",
              "      <td>0.106977</td>\n",
              "      <td>0.894737</td>\n",
              "      <td>0.404762</td>\n",
              "      <td>0.717949</td>\n",
              "      <td>0.520362</td>\n",
              "      <td>0.201611</td>\n",
              "      <td>0.201611</td>\n",
              "    </tr>\n",
              "  </tbody>\n",
              "</table>\n",
              "</div>"
            ],
            "text/plain": [
              "   Appliances  ...  Random_var2_nondimensional\n",
              "0    0.046729  ...                    0.265449\n",
              "1    0.046729  ...                    0.372083\n",
              "2    0.037383  ...                    0.572848\n",
              "3    0.037383  ...                    0.908261\n",
              "4    0.046729  ...                    0.201611\n",
              "\n",
              "[5 rows x 27 columns]"
            ]
          },
          "metadata": {
            "tags": []
          },
          "execution_count": 117
        }
      ]
    },
    {
      "cell_type": "code",
      "metadata": {
        "id": "bCWDp6IVgqcG",
        "colab_type": "code",
        "colab": {}
      },
      "source": [
        "norm_data_features = normalised_data.drop(columns=['Appliances'])\n",
        "norm_data_target = normalised_data['Appliances']"
      ],
      "execution_count": 244,
      "outputs": []
    },
    {
      "cell_type": "code",
      "metadata": {
        "id": "nkZVTozSgqfv",
        "colab_type": "code",
        "colab": {}
      },
      "source": [
        "\n",
        "x_train, x_test, y_train, y_test = train_test_split(norm_data_features, norm_data_target, test_size=0.3, random_state=42)\n",
        "\n",
        "linear_model = LinearRegression()\n",
        "#fit the model to the training dataset\n",
        "linear_model.fit(x_train, y_train)\n",
        "#obtain predictions\n",
        "predicted_values = linear_model.predict(x_test)"
      ],
      "execution_count": 245,
      "outputs": []
    },
    {
      "cell_type": "code",
      "metadata": {
        "id": "Rbg9-UXd6L1C",
        "colab_type": "code",
        "colab": {}
      },
      "source": [
        ""
      ],
      "execution_count": 50,
      "outputs": []
    },
    {
      "cell_type": "code",
      "metadata": {
        "id": "eG4uO09lHE5I",
        "colab_type": "code",
        "colab": {
          "base_uri": "https://localhost:8080/",
          "height": 34
        },
        "outputId": "e7a76eba-b432-43a0-82f5-e8264d4edcab"
      },
      "source": [
        "#MAE\n",
        "\n",
        "mae = mean_absolute_error(y_test, predicted_values)\n",
        "round(mae, 3) \t "
      ],
      "execution_count": 246,
      "outputs": [
        {
          "output_type": "execute_result",
          "data": {
            "text/plain": [
              "0.05"
            ]
          },
          "metadata": {
            "tags": []
          },
          "execution_count": 246
        }
      ]
    },
    {
      "cell_type": "code",
      "metadata": {
        "id": "FsbJ8BmLjoMm",
        "colab_type": "code",
        "colab": {
          "base_uri": "https://localhost:8080/",
          "height": 34
        },
        "outputId": "5874b5cd-ffdb-4603-ce89-141e05f7cac6"
      },
      "source": [
        "#r2_score\n",
        "from sklearn.metrics import r2_score\n",
        "r_score = r2_score(y_test, predicted_values)\n",
        "round(r_score, 3) "
      ],
      "execution_count": 249,
      "outputs": [
        {
          "output_type": "execute_result",
          "data": {
            "text/plain": [
              "0.149"
            ]
          },
          "metadata": {
            "tags": []
          },
          "execution_count": 249
        }
      ]
    },
    {
      "cell_type": "code",
      "metadata": {
        "id": "QuecXSpwjoUE",
        "colab_type": "code",
        "colab": {
          "base_uri": "https://localhost:8080/",
          "height": 34
        },
        "outputId": "01d33641-9348-4e58-e2f5-03e296f02c72"
      },
      "source": [
        " #RSS\n",
        "\n",
        "rss = np.sum(np.square(y_test - predicted_values))\n",
        "round(rss, 3)\t   "
      ],
      "execution_count": 193,
      "outputs": [
        {
          "output_type": "execute_result",
          "data": {
            "text/plain": [
              "45.348"
            ]
          },
          "metadata": {
            "tags": []
          },
          "execution_count": 193
        }
      ]
    },
    {
      "cell_type": "code",
      "metadata": {
        "id": "DxaP4Cd4joeS",
        "colab_type": "code",
        "colab": {
          "base_uri": "https://localhost:8080/",
          "height": 34
        },
        "outputId": "a1a27501-86fb-4f95-a23a-c81c5e249d51"
      },
      "source": [
        " #RSME\n",
        "\n",
        "rmse = np.sqrt(mean_squared_error(y_test, predicted_values))\n",
        "round(rmse, 3) \t "
      ],
      "execution_count": 194,
      "outputs": [
        {
          "output_type": "execute_result",
          "data": {
            "text/plain": [
              "0.088"
            ]
          },
          "metadata": {
            "tags": []
          },
          "execution_count": 194
        }
      ]
    },
    {
      "cell_type": "code",
      "metadata": {
        "id": "opbGBaENj3Vc",
        "colab_type": "code",
        "colab": {}
      },
      "source": [
        "\n",
        "def get_weights_df(model, feat, col_name):\n",
        "  #this function returns the weight of every feature\n",
        "  weights = pd.Series(model.coef_, feat.columns).sort_values()\n",
        "  weights_df = pd.DataFrame(weights).reset_index()\n",
        "  weights_df.columns = ['Features', col_name]\n",
        "  weights_df[col_name].round(3)\n",
        "  return weights_df\n"
      ],
      "execution_count": 195,
      "outputs": []
    },
    {
      "cell_type": "code",
      "metadata": {
        "id": "PkLYKhbw6jKd",
        "colab_type": "code",
        "colab": {
          "base_uri": "https://localhost:8080/",
          "height": 68
        },
        "outputId": "b840f583-b780-4264-dfe5-99e3de34fae2"
      },
      "source": [
        "from sklearn.linear_model import Lasso\n",
        "lasso_reg = Lasso(alpha=0.001)\n",
        "lasso_reg.fit(x_train, y_train)\n",
        "\n"
      ],
      "execution_count": 219,
      "outputs": [
        {
          "output_type": "execute_result",
          "data": {
            "text/plain": [
              "Lasso(alpha=0.001, copy_X=True, fit_intercept=True, max_iter=1000,\n",
              "      normalize=False, positive=False, precompute=False, random_state=None,\n",
              "      selection='cyclic', tol=0.0001, warm_start=False)"
            ]
          },
          "metadata": {
            "tags": []
          },
          "execution_count": 219
        }
      ]
    },
    {
      "cell_type": "code",
      "metadata": {
        "id": "97P2Umsz8SBG",
        "colab_type": "code",
        "colab": {
          "base_uri": "https://localhost:8080/",
          "height": 68
        },
        "outputId": "91559058-1b1d-4679-f568-5c626c3e8eb1"
      },
      "source": [
        "lasso_reg2 = Lasso(alpha=0.0001)\n",
        "lasso_reg2.fit(x_train, y_train)"
      ],
      "execution_count": 218,
      "outputs": [
        {
          "output_type": "execute_result",
          "data": {
            "text/plain": [
              "Lasso(alpha=0.0001, copy_X=True, fit_intercept=True, max_iter=1000,\n",
              "      normalize=False, positive=False, precompute=False, random_state=None,\n",
              "      selection='cyclic', tol=0.0001, warm_start=False)"
            ]
          },
          "metadata": {
            "tags": []
          },
          "execution_count": 218
        }
      ]
    },
    {
      "cell_type": "code",
      "metadata": {
        "id": "zxKikNrr6jNs",
        "colab_type": "code",
        "colab": {
          "base_uri": "https://localhost:8080/",
          "height": 51
        },
        "outputId": "314ae8c0-913e-4fac-e95d-a190c90ab6c1"
      },
      "source": [
        "from sklearn.linear_model import Ridge\n",
        "ridge_reg = Ridge(alpha=0.5)\n",
        "ridge_reg.fit(x_train, y_train)"
      ],
      "execution_count": 197,
      "outputs": [
        {
          "output_type": "execute_result",
          "data": {
            "text/plain": [
              "Ridge(alpha=0.5, copy_X=True, fit_intercept=True, max_iter=None,\n",
              "      normalize=False, random_state=None, solver='auto', tol=0.001)"
            ]
          },
          "metadata": {
            "tags": []
          },
          "execution_count": 197
        }
      ]
    },
    {
      "cell_type": "code",
      "metadata": {
        "id": "nMcFpC-u7rfj",
        "colab_type": "code",
        "colab": {
          "base_uri": "https://localhost:8080/",
          "height": 51
        },
        "outputId": "fafd23c8-5661-441e-d3b9-944ba368ab31"
      },
      "source": [
        "ridge_reg2 = Ridge(alpha=0.4)\n",
        "ridge_reg2.fit(x_train, y_train)"
      ],
      "execution_count": 204,
      "outputs": [
        {
          "output_type": "execute_result",
          "data": {
            "text/plain": [
              "Ridge(alpha=0.4, copy_X=True, fit_intercept=True, max_iter=None,\n",
              "      normalize=False, random_state=None, solver='auto', tol=0.001)"
            ]
          },
          "metadata": {
            "tags": []
          },
          "execution_count": 204
        }
      ]
    },
    {
      "cell_type": "code",
      "metadata": {
        "id": "pynabFqc78iR",
        "colab_type": "code",
        "colab": {}
      },
      "source": [
        "#ridge\n",
        "predicted_values4 = ridge_reg2.predict(x_test)"
      ],
      "execution_count": 253,
      "outputs": []
    },
    {
      "cell_type": "code",
      "metadata": {
        "id": "5gy2ephf73SY",
        "colab_type": "code",
        "colab": {}
      },
      "source": [
        "#ridge\n",
        "rmse2 = np.sqrt(mean_squared_error(y_test, predicted_values4))"
      ],
      "execution_count": 254,
      "outputs": []
    },
    {
      "cell_type": "code",
      "metadata": {
        "id": "_bXmNvWI73VB",
        "colab_type": "code",
        "colab": {
          "base_uri": "https://localhost:8080/",
          "height": 34
        },
        "outputId": "21fdd91d-0b3e-45c2-c778-5816dd27458e"
      },
      "source": [
        "rmse2"
      ],
      "execution_count": 255,
      "outputs": [
        {
          "output_type": "execute_result",
          "data": {
            "text/plain": [
              "0.08753385704628003"
            ]
          },
          "metadata": {
            "tags": []
          },
          "execution_count": 255
        }
      ]
    },
    {
      "cell_type": "code",
      "metadata": {
        "id": "sGcLEDLe9TfI",
        "colab_type": "code",
        "colab": {
          "base_uri": "https://localhost:8080/",
          "height": 34
        },
        "outputId": "b95b00ad-49f9-4b5f-b3b5-61a7f4f44814"
      },
      "source": [
        "#What is the new RMSE with the Lasso Regression \n",
        "\n",
        "predicted_values_lasso = lasso_reg.predict(x_test)\n",
        "rmselasso = np.sqrt(mean_squared_error(y_test, predicted_values_lasso))\n",
        "round(rmselasso, 3)"
      ],
      "execution_count": 250,
      "outputs": [
        {
          "output_type": "execute_result",
          "data": {
            "text/plain": [
              "0.094"
            ]
          },
          "metadata": {
            "tags": []
          },
          "execution_count": 250
        }
      ]
    },
    {
      "cell_type": "code",
      "metadata": {
        "id": "7N2nxiak8f0R",
        "colab_type": "code",
        "colab": {
          "base_uri": "https://localhost:8080/",
          "height": 34
        },
        "outputId": "64433dba-a780-46b5-d45c-b8f610313809"
      },
      "source": [
        "#Train a lasso regression model with an alpha value of 0.001 and obtain the new feature weights with it. How many of the features have non-zero feature weights?\n",
        "\n",
        "lasso_weights_df = get_weights_df(lasso_reg, x_train, 'Lasso_weight')\n",
        "len(lasso_weights_df[lasso_weights_df['Lasso_weight']!=0])"
      ],
      "execution_count": 223,
      "outputs": [
        {
          "output_type": "execute_result",
          "data": {
            "text/plain": [
              "4"
            ]
          },
          "metadata": {
            "tags": []
          },
          "execution_count": 223
        }
      ]
    },
    {
      "cell_type": "code",
      "metadata": {
        "id": "aL97ASrX6p2b",
        "colab_type": "code",
        "colab": {}
      },
      "source": [
        ""
      ],
      "execution_count": null,
      "outputs": []
    },
    {
      "cell_type": "code",
      "metadata": {
        "id": "z4QEMBSJj3fw",
        "colab_type": "code",
        "colab": {}
      },
      "source": [
        ""
      ],
      "execution_count": null,
      "outputs": []
    }
  ]
}